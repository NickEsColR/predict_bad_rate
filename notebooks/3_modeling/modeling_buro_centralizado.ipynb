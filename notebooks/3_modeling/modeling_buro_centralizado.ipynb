{
 "cells": [
  {
   "cell_type": "markdown",
   "id": "922cd389",
   "metadata": {},
   "source": [
    "# Modeling de Buró Centralizado\n",
    "\n",
    "Se prueban inicialmente bajo un train/validation/split los modelos de:\n",
    "\n",
    "  * Regresión Logística\n",
    "  * Naive Bayes\n",
    "  * XGBoost\n",
    "  * RandomForest\n",
    "  \n",
    "Todas las métricas las métricas se loggean en wandb. La idea es revisar qué modelos tienen un performance aparentemente bueno para luego pasarlos por un optimizador"
   ]
  },
  {
   "cell_type": "markdown",
   "id": "5aea0699",
   "metadata": {},
   "source": [
    "# Set Root"
   ]
  },
  {
   "cell_type": "code",
   "execution_count": 1,
   "id": "12a4dd94",
   "metadata": {},
   "outputs": [],
   "source": [
    "import os\n",
    "import re\n",
    "\n",
    "root = re.findall('.*predict_bad_rate', os.getcwd())[0]\n",
    "os.chdir(root)"
   ]
  },
  {
   "cell_type": "markdown",
   "id": "9d88bb42",
   "metadata": {},
   "source": [
    "# Leer YAML"
   ]
  },
  {
   "cell_type": "code",
   "execution_count": 2,
   "id": "e0f33425",
   "metadata": {},
   "outputs": [],
   "source": [
    "import yaml\n",
    "\n",
    "with open('params.yaml', 'r') as file:\n",
    "    yaml_config = yaml.safe_load(file)"
   ]
  },
  {
   "cell_type": "markdown",
   "id": "9a57506c",
   "metadata": {},
   "source": [
    "## Importación de Bibliotecas"
   ]
  },
  {
   "cell_type": "code",
   "execution_count": 3,
   "id": "a2c4f781",
   "metadata": {},
   "outputs": [],
   "source": [
    "from xgboost import XGBClassifier\n",
    "from sklearn.linear_model import LogisticRegression\n",
    "from sklearn.ensemble import RandomForestClassifier\n",
    "from sklearn.naive_bayes import GaussianNB\n",
    "from sklearn.decomposition import PCA\n",
    "\n",
    "import pandas as pd\n",
    "from sklearn.preprocessing import OneHotEncoder\n",
    "from sklearn.preprocessing import OrdinalEncoder\n",
    "from sklearn.model_selection import train_test_split\n",
    "from sklearn.feature_selection import VarianceThreshold\n",
    "from sklearn.feature_selection import SelectPercentile, chi2\n",
    "from sklearn.compose import ColumnTransformer\n",
    "from sklearn.preprocessing import FunctionTransformer\n",
    "from sklearn.pipeline import Pipeline\n",
    "from sklearn.impute import SimpleImputer\n",
    "from sklearn.preprocessing import StandardScaler\n",
    "from sklearn.pipeline import make_pipeline\n",
    "import matplotlib.pyplot as plt\n",
    "import seaborn as sns\n",
    "import sklearn.metrics as skm\n",
    "from time import time\n",
    "from datetime import timedelta\n",
    "import numpy as np"
   ]
  },
  {
   "cell_type": "markdown",
   "id": "75e7f9d7",
   "metadata": {},
   "source": [
    "## Funciones útiles"
   ]
  },
  {
   "cell_type": "code",
   "execution_count": 4,
   "id": "077c5fab",
   "metadata": {},
   "outputs": [],
   "source": [
    "def get_imbalaced_metrics(y_true, y_preds):\n",
    "    ths = np.linspace(0, 1, 1000)\n",
    "    best_th = ths[\n",
    "        np.argmax([skm.f1_score(y_true, y_preds>th) for th in ths])\n",
    "    ]\n",
    "    \n",
    "    roc_auc = skm.roc_auc_score(y_true, y_preds)\n",
    "    average_precision = skm.average_precision_score(y_true, y_preds)\n",
    "    max_f1 = skm.f1_score(y_true, y_preds>best_th)\n",
    "    accuracy_on_max_f1 = skm.accuracy_score(y_true, y_preds>best_th)\n",
    "    baseline=y_true.value_counts(True)\n",
    "    \n",
    "    return dict(\n",
    "        roc_auc=roc_auc,\n",
    "        average_precision=average_precision,\n",
    "        max_f1=max_f1,\n",
    "        accuracy_on_max_f1=accuracy_on_max_f1,\n",
    "        baseline=baseline.iloc[0]\n",
    "    )"
   ]
  },
  {
   "cell_type": "markdown",
   "id": "11f86302",
   "metadata": {},
   "source": [
    "## Carga de Datos"
   ]
  },
  {
   "cell_type": "code",
   "execution_count": 6,
   "id": "81aa04a3",
   "metadata": {},
   "outputs": [],
   "source": [
    "X = pd.read_parquet(\n",
    "    yaml_config['centralizado']['folder_processed'] +\n",
    "    'buro_centralizado_from_data_preparation_with_external_variables.parquet'\n",
    ")\n",
    "X.sort_values('fecha', inplace=True)\n",
    "\n",
    "y = pd.read_parquet(\n",
    "    yaml_config['centralizado']['folder_processed'] +\n",
    "    'maxima_mora_alcanzada_buro_centralizado_with_recent_bureau.parquet'\n",
    ").squeeze()\n",
    "y = y.loc[X.index]"
   ]
  },
  {
   "cell_type": "markdown",
   "id": "dad802ee",
   "metadata": {},
   "source": [
    "## Definición de variable de mora\n",
    "\n",
    "Se empleará una maxima mora mayor o igual a 60. La variable objetivo resultante tiene las siguientes propiedades:\n",
    "\n",
    "```\n",
    ">> y = y.ge(60).astype(int)\n",
    "normalize=True\n",
    "y.value_counts(normalize=True)\n",
    "0    0.953947\n",
    "1    0.046053\n",
    "Name: max_dias_mora, dtype: float64\n",
    "```"
   ]
  },
  {
   "cell_type": "code",
   "execution_count": 7,
   "id": "c7fbd706",
   "metadata": {},
   "outputs": [],
   "source": [
    "y = y.ge(60).astype(int)"
   ]
  },
  {
   "cell_type": "code",
   "execution_count": 8,
   "id": "70cb2fa5",
   "metadata": {},
   "outputs": [
    {
     "data": {
      "text/plain": [
       "max_dias_mora\n",
       "0    0.953947\n",
       "1    0.046053\n",
       "Name: proportion, dtype: float64"
      ]
     },
     "execution_count": 8,
     "metadata": {},
     "output_type": "execute_result"
    }
   ],
   "source": [
    "y.value_counts(normalize=True)"
   ]
  },
  {
   "cell_type": "markdown",
   "id": "16842d44",
   "metadata": {},
   "source": [
    "## Split de los datos\n",
    "\n",
    "Tanto X como Y están organizados por fechas, se deja un 30% (de fechas posteriores) para test. La validación representa un 20% del set train. En la optimización se hace un 5KFold"
   ]
  },
  {
   "cell_type": "code",
   "execution_count": 9,
   "id": "abe47b4c",
   "metadata": {},
   "outputs": [],
   "source": [
    "X_train_o, X_test, y_train_o, y_test = train_test_split(\n",
    "    X, y, random_state=42, shuffle=False, test_size=0.3\n",
    ")\n",
    "\n",
    "\n",
    "X_train, X_val, y_train, y_val = train_test_split(\n",
    "    X_train_o, y_train_o, random_state=42, test_size=0.2,\n",
    "    stratify=y_train_o\n",
    ")"
   ]
  },
  {
   "cell_type": "markdown",
   "id": "0091bff1",
   "metadata": {},
   "source": [
    "## Definición de tipos de Variables\n",
    "\n",
    "Variables que sean más del 50% nulas no serán consideradas inicialmente. También se definen qué variables son categóricas, ordinales y qué variables son numerical.\n",
    "\n",
    "La única variable que no entra dentro de estas categorías es `fecha` fecha de consulta de buró de crédito."
   ]
  },
  {
   "cell_type": "code",
   "execution_count": 10,
   "id": "54548403",
   "metadata": {},
   "outputs": [],
   "source": [
    "porcetaje_de_nulidad = (\n",
    "    X_train.isnull()\n",
    "    .apply(lambda s: s.value_counts(True)).T\n",
    ") \n",
    "\n",
    "porcetaje_de_nulidad.columns = ['not_null', 'null']\n",
    "variables_muy_nulas = porcetaje_de_nulidad.query('null > 0.7').index"
   ]
  },
  {
   "cell_type": "code",
   "execution_count": 11,
   "id": "824df4cf",
   "metadata": {},
   "outputs": [],
   "source": [
    "ordinales = pd.Index(['ip'])\n",
    "categoricas = X_train.select_dtypes('object').columns\n",
    "categoricas = categoricas.delete(\n",
    "    categoricas.isin(ordinales) |\n",
    "    categoricas.isin(variables_muy_nulas) |\n",
    "    categoricas.isin(['h3_id'])\n",
    ")\n",
    "\n",
    "numericas = X_train.select_dtypes('number').columns\n",
    "numericas = numericas.delete(\n",
    "    numericas.isin(variables_muy_nulas)\n",
    ")"
   ]
  },
  {
   "cell_type": "code",
   "execution_count": 12,
   "id": "09abd539",
   "metadata": {},
   "outputs": [],
   "source": [
    "config_ordinal = dict(\n",
    "    handle_unknown='use_encoded_value',\n",
    "    unknown_value=np.nan\n",
    ")\n",
    "config_onehot = dict(\n",
    "    handle_unknown='ignore'\n",
    ")"
   ]
  },
  {
   "cell_type": "markdown",
   "id": "b2cd8f99",
   "metadata": {},
   "source": [
    "## PCA"
   ]
  },
  {
   "cell_type": "code",
   "execution_count": 13,
   "id": "7cdc9ce5",
   "metadata": {},
   "outputs": [
    {
     "data": {
      "image/png": "[encoded data removed]",
      "text/plain": [
       "<Figure size 1000x600 with 1 Axes>"
      ]
     },
     "metadata": {},
     "output_type": "display_data"
    },
    {
     "name": "stdout",
     "output_type": "stream",
     "text": [
      "Número de componentes para alcanzar 90.0 % de varianza explicada: 41\n"
     ]
    }
   ],
   "source": [
    "numeric_transformer = Pipeline(\n",
    "    steps=[(\"imputer\",  SimpleImputer(strategy='mean')),\n",
    "           (\"scaler\", StandardScaler()),\n",
    "           (\"select_var\", VarianceThreshold(0.1))\n",
    "          ]\n",
    ")\n",
    "\n",
    "X_scaled = numeric_transformer.fit_transform(X[numericas])\n",
    "\n",
    "# Inicializar el modelo PCA\n",
    "pca = PCA()\n",
    "\n",
    "pca.fit(X_scaled)\n",
    "\n",
    "# Varianza explicada acumulada\n",
    "explained_variance_ratio_cumulative = np.cumsum(pca.explained_variance_ratio_)\n",
    "\n",
    "# Encuentra el número de componentes para alcanzar un porcentaje de varianza explicada deseado\n",
    "target_variance = 0.90  \n",
    "\n",
    "n_components_to_reach_variance = np.argmax(explained_variance_ratio_cumulative >= target_variance) + 1\n",
    "\n",
    "# Graficar la varianza explicada acumulada\n",
    "plt.figure(figsize=(10, 6))\n",
    "plt.plot(explained_variance_ratio_cumulative, marker='o')\n",
    "plt.axvline(n_components_to_reach_variance, color='red', linestyle='--', label=f'N Componentes para {target_variance*100:.2f}% Varianza')\n",
    "plt.xlabel('Número de Componentes Principales')\n",
    "plt.ylabel('Varianza Explicada Acumulada')\n",
    "plt.title('Varianza Explicada Acumulada vs. Número de Componentes Principales')\n",
    "plt.legend()\n",
    "plt.grid(True)\n",
    "plt.show()\n",
    "\n",
    "print('Número de componentes para alcanzar', target_variance*100, '% de varianza explicada:', n_components_to_reach_variance)\n",
    "\n"
   ]
  },
  {
   "cell_type": "markdown",
   "id": "f69b2d73",
   "metadata": {},
   "source": [
    "## RL"
   ]
  },
  {
   "cell_type": "code",
   "execution_count": 14,
   "id": "a58adf69",
   "metadata": {},
   "outputs": [],
   "source": [
    "numeric_transformer = Pipeline(\n",
    "    steps=[(\"imputer\",  SimpleImputer(strategy='mean')),\n",
    "           (\"scaler\", StandardScaler()),\n",
    "           (\"select_var\", VarianceThreshold(0.1)), (\"pca\", PCA(\n",
    "               n_components=41))\n",
    "           ]\n",
    ")\n",
    "\n",
    "categorical_transformer = Pipeline(\n",
    "    steps=[('imputer', SimpleImputer(strategy='most_frequent')),\n",
    "           ('dumm', OneHotEncoder(**config_onehot)),\n",
    "           (\"selector\", SelectPercentile(chi2, percentile=50))\n",
    "           ]\n",
    ")\n",
    "\n",
    "ordinal_transformer = Pipeline(\n",
    "    steps=[('imputer', SimpleImputer(strategy='most_frequent')),\n",
    "           ('encod', OrdinalEncoder(**config_ordinal))\n",
    "           ]\n",
    ")\n",
    "preprocessor = ColumnTransformer(\n",
    "    transformers=[\n",
    "        (\"num\", numeric_transformer, numericas),\n",
    "     #   (\"ord\", ordinal_transformer, ordinales),\n",
    "        (\"cat\", categorical_transformer, categoricas),\n",
    "    ]\n",
    ")\n"
   ]
  },
  {
   "cell_type": "code",
   "execution_count": 15,
   "id": "ea66d232",
   "metadata": {},
   "outputs": [
    {
     "name": "stdout",
     "output_type": "stream",
     "text": [
      "Tiempo Entrenamiento Regresión Logistica: 0:00:00.242716\n"
     ]
    }
   ],
   "source": [
    "rl_pipeline = Pipeline([\n",
    "    ('preprocesamiento', preprocessor),\n",
    "    ('classificador', LogisticRegression())\n",
    "])\n",
    "\n",
    "start = time()\n",
    "rl_pipeline.fit(X_train, y_train)\n",
    "end = time()\n",
    "\n",
    "print(\n",
    "    'Tiempo Entrenamiento Regresión Logistica:',\n",
    "    str(timedelta(seconds=end-start))\n",
    ")\n"
   ]
  },
  {
   "cell_type": "code",
   "execution_count": 16,
   "id": "1aa88783",
   "metadata": {},
   "outputs": [
    {
     "data": {
      "text/html": [
       "<style>#sk-container-id-1 {\n",
       "  /* Definition of color scheme common for light and dark mode */\n",
       "  --sklearn-color-text: black;\n",
       "  --sklearn-color-line: gray;\n",
       "  /* Definition of color scheme for unfitted estimators */\n",
       "  --sklearn-color-unfitted-level-0: #fff5e6;\n",
       "  --sklearn-color-unfitted-level-1: #f6e4d2;\n",
       "  --sklearn-color-unfitted-level-2: #ffe0b3;\n",
       "  --sklearn-color-unfitted-level-3: chocolate;\n",
       "  /* Definition of color scheme for fitted estimators */\n",
       "  --sklearn-color-fitted-level-0: #f0f8ff;\n",
       "  --sklearn-color-fitted-level-1: #d4ebff;\n",
       "  --sklearn-color-fitted-level-2: #b3dbfd;\n",
       "  --sklearn-color-fitted-level-3: cornflowerblue;\n",
       "\n",
       "  /* Specific color for light theme */\n",
       "  --sklearn-color-text-on-default-background: var(--sg-text-color, var(--theme-code-foreground, var(--jp-content-font-color1, black)));\n",
       "  --sklearn-color-background: var(--sg-background-color, var(--theme-background, var(--jp-layout-color0, white)));\n",
       "  --sklearn-color-border-box: var(--sg-text-color, var(--theme-code-foreground, var(--jp-content-font-color1, black)));\n",
       "  --sklearn-color-icon: #696969;\n",
       "\n",
       "  @media (prefers-color-scheme: dark) {\n",
       "    /* Redefinition of color scheme for dark theme */\n",
       "    --sklearn-color-text-on-default-background: var(--sg-text-color, var(--theme-code-foreground, var(--jp-content-font-color1, white)));\n",
       "    --sklearn-color-background: var(--sg-background-color, var(--theme-background, var(--jp-layout-color0, #111)));\n",
       "    --sklearn-color-border-box: var(--sg-text-color, var(--theme-code-foreground, var(--jp-content-font-color1, white)));\n",
       "    --sklearn-color-icon: #878787;\n",
       "  }\n",
       "}\n",
       "\n",
       "#sk-container-id-1 {\n",
       "  color: var(--sklearn-color-text);\n",
       "}\n",
       "\n",
       "#sk-container-id-1 pre {\n",
       "  padding: 0;\n",
       "}\n",
       "\n",
       "#sk-container-id-1 input.sk-hidden--visually {\n",
       "  border: 0;\n",
       "  clip: rect(1px 1px 1px 1px);\n",
       "  clip: rect(1px, 1px, 1px, 1px);\n",
       "  height: 1px;\n",
       "  margin: -1px;\n",
       "  overflow: hidden;\n",
       "  padding: 0;\n",
       "  position: absolute;\n",
       "  width: 1px;\n",
       "}\n",
       "\n",
       "#sk-container-id-1 div.sk-dashed-wrapped {\n",
       "  border: 1px dashed var(--sklearn-color-line);\n",
       "  margin: 0 0.4em 0.5em 0.4em;\n",
       "  box-sizing: border-box;\n",
       "  padding-bottom: 0.4em;\n",
       "  background-color: var(--sklearn-color-background);\n",
       "}\n",
       "\n",
       "#sk-container-id-1 div.sk-container {\n",
       "  /* jupyter's `normalize.less` sets `[hidden] { display: none; }`\n",
       "     but bootstrap.min.css set `[hidden] { display: none !important; }`\n",
       "     so we also need the `!important` here to be able to override the\n",
       "     default hidden behavior on the sphinx rendered scikit-learn.org.\n",
       "     See: https://github.com/scikit-learn/scikit-learn/issues/21755 */\n",
       "  display: inline-block !important;\n",
       "  position: relative;\n",
       "}\n",
       "\n",
       "#sk-container-id-1 div.sk-text-repr-fallback {\n",
       "  display: none;\n",
       "}\n",
       "\n",
       "div.sk-parallel-item,\n",
       "div.sk-serial,\n",
       "div.sk-item {\n",
       "  /* draw centered vertical line to link estimators */\n",
       "  background-image: linear-gradient(var(--sklearn-color-text-on-default-background), var(--sklearn-color-text-on-default-background));\n",
       "  background-size: 2px 100%;\n",
       "  background-repeat: no-repeat;\n",
       "  background-position: center center;\n",
       "}\n",
       "\n",
       "/* Parallel-specific style estimator block */\n",
       "\n",
       "#sk-container-id-1 div.sk-parallel-item::after {\n",
       "  content: \"\";\n",
       "  width: 100%;\n",
       "  border-bottom: 2px solid var(--sklearn-color-text-on-default-background);\n",
       "  flex-grow: 1;\n",
       "}\n",
       "\n",
       "#sk-container-id-1 div.sk-parallel {\n",
       "  display: flex;\n",
       "  align-items: stretch;\n",
       "  justify-content: center;\n",
       "  background-color: var(--sklearn-color-background);\n",
       "  position: relative;\n",
       "}\n",
       "\n",
       "#sk-container-id-1 div.sk-parallel-item {\n",
       "  display: flex;\n",
       "  flex-direction: column;\n",
       "}\n",
       "\n",
       "#sk-container-id-1 div.sk-parallel-item:first-child::after {\n",
       "  align-self: flex-end;\n",
       "  width: 50%;\n",
       "}\n",
       "\n",
       "#sk-container-id-1 div.sk-parallel-item:last-child::after {\n",
       "  align-self: flex-start;\n",
       "  width: 50%;\n",
       "}\n",
       "\n",
       "#sk-container-id-1 div.sk-parallel-item:only-child::after {\n",
       "  width: 0;\n",
       "}\n",
       "\n",
       "/* Serial-specific style estimator block */\n",
       "\n",
       "#sk-container-id-1 div.sk-serial {\n",
       "  display: flex;\n",
       "  flex-direction: column;\n",
       "  align-items: center;\n",
       "  background-color: var(--sklearn-color-background);\n",
       "  padding-right: 1em;\n",
       "  padding-left: 1em;\n",
       "}\n",
       "\n",
       "\n",
       "/* Toggleable style: style used for estimator/Pipeline/ColumnTransformer box that is\n",
       "clickable and can be expanded/collapsed.\n",
       "- Pipeline and ColumnTransformer use this feature and define the default style\n",
       "- Estimators will overwrite some part of the style using the `sk-estimator` class\n",
       "*/\n",
       "\n",
       "/* Pipeline and ColumnTransformer style (default) */\n",
       "\n",
       "#sk-container-id-1 div.sk-toggleable {\n",
       "  /* Default theme specific background. It is overwritten whether we have a\n",
       "  specific estimator or a Pipeline/ColumnTransformer */\n",
       "  background-color: var(--sklearn-color-background);\n",
       "}\n",
       "\n",
       "/* Toggleable label */\n",
       "#sk-container-id-1 label.sk-toggleable__label {\n",
       "  cursor: pointer;\n",
       "  display: block;\n",
       "  width: 100%;\n",
       "  margin-bottom: 0;\n",
       "  padding: 0.5em;\n",
       "  box-sizing: border-box;\n",
       "  text-align: center;\n",
       "}\n",
       "\n",
       "#sk-container-id-1 label.sk-toggleable__label-arrow:before {\n",
       "  /* Arrow on the left of the label */\n",
       "  content: \"▸\";\n",
       "  float: left;\n",
       "  margin-right: 0.25em;\n",
       "  color: var(--sklearn-color-icon);\n",
       "}\n",
       "\n",
       "#sk-container-id-1 label.sk-toggleable__label-arrow:hover:before {\n",
       "  color: var(--sklearn-color-text);\n",
       "}\n",
       "\n",
       "/* Toggleable content - dropdown */\n",
       "\n",
       "#sk-container-id-1 div.sk-toggleable__content {\n",
       "  max-height: 0;\n",
       "  max-width: 0;\n",
       "  overflow: hidden;\n",
       "  text-align: left;\n",
       "  /* unfitted */\n",
       "  background-color: var(--sklearn-color-unfitted-level-0);\n",
       "}\n",
       "\n",
       "#sk-container-id-1 div.sk-toggleable__content.fitted {\n",
       "  /* fitted */\n",
       "  background-color: var(--sklearn-color-fitted-level-0);\n",
       "}\n",
       "\n",
       "#sk-container-id-1 div.sk-toggleable__content pre {\n",
       "  margin: 0.2em;\n",
       "  border-radius: 0.25em;\n",
       "  color: var(--sklearn-color-text);\n",
       "  /* unfitted */\n",
       "  background-color: var(--sklearn-color-unfitted-level-0);\n",
       "}\n",
       "\n",
       "#sk-container-id-1 div.sk-toggleable__content.fitted pre {\n",
       "  /* unfitted */\n",
       "  background-color: var(--sklearn-color-fitted-level-0);\n",
       "}\n",
       "\n",
       "#sk-container-id-1 input.sk-toggleable__control:checked~div.sk-toggleable__content {\n",
       "  /* Expand drop-down */\n",
       "  max-height: 200px;\n",
       "  max-width: 100%;\n",
       "  overflow: auto;\n",
       "}\n",
       "\n",
       "#sk-container-id-1 input.sk-toggleable__control:checked~label.sk-toggleable__label-arrow:before {\n",
       "  content: \"▾\";\n",
       "}\n",
       "\n",
       "/* Pipeline/ColumnTransformer-specific style */\n",
       "\n",
       "#sk-container-id-1 div.sk-label input.sk-toggleable__control:checked~label.sk-toggleable__label {\n",
       "  color: var(--sklearn-color-text);\n",
       "  background-color: var(--sklearn-color-unfitted-level-2);\n",
       "}\n",
       "\n",
       "#sk-container-id-1 div.sk-label.fitted input.sk-toggleable__control:checked~label.sk-toggleable__label {\n",
       "  background-color: var(--sklearn-color-fitted-level-2);\n",
       "}\n",
       "\n",
       "/* Estimator-specific style */\n",
       "\n",
       "/* Colorize estimator box */\n",
       "#sk-container-id-1 div.sk-estimator input.sk-toggleable__control:checked~label.sk-toggleable__label {\n",
       "  /* unfitted */\n",
       "  background-color: var(--sklearn-color-unfitted-level-2);\n",
       "}\n",
       "\n",
       "#sk-container-id-1 div.sk-estimator.fitted input.sk-toggleable__control:checked~label.sk-toggleable__label {\n",
       "  /* fitted */\n",
       "  background-color: var(--sklearn-color-fitted-level-2);\n",
       "}\n",
       "\n",
       "#sk-container-id-1 div.sk-label label.sk-toggleable__label,\n",
       "#sk-container-id-1 div.sk-label label {\n",
       "  /* The background is the default theme color */\n",
       "  color: var(--sklearn-color-text-on-default-background);\n",
       "}\n",
       "\n",
       "/* On hover, darken the color of the background */\n",
       "#sk-container-id-1 div.sk-label:hover label.sk-toggleable__label {\n",
       "  color: var(--sklearn-color-text);\n",
       "  background-color: var(--sklearn-color-unfitted-level-2);\n",
       "}\n",
       "\n",
       "/* Label box, darken color on hover, fitted */\n",
       "#sk-container-id-1 div.sk-label.fitted:hover label.sk-toggleable__label.fitted {\n",
       "  color: var(--sklearn-color-text);\n",
       "  background-color: var(--sklearn-color-fitted-level-2);\n",
       "}\n",
       "\n",
       "/* Estimator label */\n",
       "\n",
       "#sk-container-id-1 div.sk-label label {\n",
       "  font-family: monospace;\n",
       "  font-weight: bold;\n",
       "  display: inline-block;\n",
       "  line-height: 1.2em;\n",
       "}\n",
       "\n",
       "#sk-container-id-1 div.sk-label-container {\n",
       "  text-align: center;\n",
       "}\n",
       "\n",
       "/* Estimator-specific */\n",
       "#sk-container-id-1 div.sk-estimator {\n",
       "  font-family: monospace;\n",
       "  border: 1px dotted var(--sklearn-color-border-box);\n",
       "  border-radius: 0.25em;\n",
       "  box-sizing: border-box;\n",
       "  margin-bottom: 0.5em;\n",
       "  /* unfitted */\n",
       "  background-color: var(--sklearn-color-unfitted-level-0);\n",
       "}\n",
       "\n",
       "#sk-container-id-1 div.sk-estimator.fitted {\n",
       "  /* fitted */\n",
       "  background-color: var(--sklearn-color-fitted-level-0);\n",
       "}\n",
       "\n",
       "/* on hover */\n",
       "#sk-container-id-1 div.sk-estimator:hover {\n",
       "  /* unfitted */\n",
       "  background-color: var(--sklearn-color-unfitted-level-2);\n",
       "}\n",
       "\n",
       "#sk-container-id-1 div.sk-estimator.fitted:hover {\n",
       "  /* fitted */\n",
       "  background-color: var(--sklearn-color-fitted-level-2);\n",
       "}\n",
       "\n",
       "/* Specification for estimator info (e.g. \"i\" and \"?\") */\n",
       "\n",
       "/* Common style for \"i\" and \"?\" */\n",
       "\n",
       ".sk-estimator-doc-link,\n",
       "a:link.sk-estimator-doc-link,\n",
       "a:visited.sk-estimator-doc-link {\n",
       "  float: right;\n",
       "  font-size: smaller;\n",
       "  line-height: 1em;\n",
       "  font-family: monospace;\n",
       "  background-color: var(--sklearn-color-background);\n",
       "  border-radius: 1em;\n",
       "  height: 1em;\n",
       "  width: 1em;\n",
       "  text-decoration: none !important;\n",
       "  margin-left: 1ex;\n",
       "  /* unfitted */\n",
       "  border: var(--sklearn-color-unfitted-level-1) 1pt solid;\n",
       "  color: var(--sklearn-color-unfitted-level-1);\n",
       "}\n",
       "\n",
       ".sk-estimator-doc-link.fitted,\n",
       "a:link.sk-estimator-doc-link.fitted,\n",
       "a:visited.sk-estimator-doc-link.fitted {\n",
       "  /* fitted */\n",
       "  border: var(--sklearn-color-fitted-level-1) 1pt solid;\n",
       "  color: var(--sklearn-color-fitted-level-1);\n",
       "}\n",
       "\n",
       "/* On hover */\n",
       "div.sk-estimator:hover .sk-estimator-doc-link:hover,\n",
       ".sk-estimator-doc-link:hover,\n",
       "div.sk-label-container:hover .sk-estimator-doc-link:hover,\n",
       ".sk-estimator-doc-link:hover {\n",
       "  /* unfitted */\n",
       "  background-color: var(--sklearn-color-unfitted-level-3);\n",
       "  color: var(--sklearn-color-background);\n",
       "  text-decoration: none;\n",
       "}\n",
       "\n",
       "div.sk-estimator.fitted:hover .sk-estimator-doc-link.fitted:hover,\n",
       ".sk-estimator-doc-link.fitted:hover,\n",
       "div.sk-label-container:hover .sk-estimator-doc-link.fitted:hover,\n",
       ".sk-estimator-doc-link.fitted:hover {\n",
       "  /* fitted */\n",
       "  background-color: var(--sklearn-color-fitted-level-3);\n",
       "  color: var(--sklearn-color-background);\n",
       "  text-decoration: none;\n",
       "}\n",
       "\n",
       "/* Span, style for the box shown on hovering the info icon */\n",
       ".sk-estimator-doc-link span {\n",
       "  display: none;\n",
       "  z-index: 9999;\n",
       "  position: relative;\n",
       "  font-weight: normal;\n",
       "  right: .2ex;\n",
       "  padding: .5ex;\n",
       "  margin: .5ex;\n",
       "  width: min-content;\n",
       "  min-width: 20ex;\n",
       "  max-width: 50ex;\n",
       "  color: var(--sklearn-color-text);\n",
       "  box-shadow: 2pt 2pt 4pt #999;\n",
       "  /* unfitted */\n",
       "  background: var(--sklearn-color-unfitted-level-0);\n",
       "  border: .5pt solid var(--sklearn-color-unfitted-level-3);\n",
       "}\n",
       "\n",
       ".sk-estimator-doc-link.fitted span {\n",
       "  /* fitted */\n",
       "  background: var(--sklearn-color-fitted-level-0);\n",
       "  border: var(--sklearn-color-fitted-level-3);\n",
       "}\n",
       "\n",
       ".sk-estimator-doc-link:hover span {\n",
       "  display: block;\n",
       "}\n",
       "\n",
       "/* \"?\"-specific style due to the `<a>` HTML tag */\n",
       "\n",
       "#sk-container-id-1 a.estimator_doc_link {\n",
       "  float: right;\n",
       "  font-size: 1rem;\n",
       "  line-height: 1em;\n",
       "  font-family: monospace;\n",
       "  background-color: var(--sklearn-color-background);\n",
       "  border-radius: 1rem;\n",
       "  height: 1rem;\n",
       "  width: 1rem;\n",
       "  text-decoration: none;\n",
       "  /* unfitted */\n",
       "  color: var(--sklearn-color-unfitted-level-1);\n",
       "  border: var(--sklearn-color-unfitted-level-1) 1pt solid;\n",
       "}\n",
       "\n",
       "#sk-container-id-1 a.estimator_doc_link.fitted {\n",
       "  /* fitted */\n",
       "  border: var(--sklearn-color-fitted-level-1) 1pt solid;\n",
       "  color: var(--sklearn-color-fitted-level-1);\n",
       "}\n",
       "\n",
       "/* On hover */\n",
       "#sk-container-id-1 a.estimator_doc_link:hover {\n",
       "  /* unfitted */\n",
       "  background-color: var(--sklearn-color-unfitted-level-3);\n",
       "  color: var(--sklearn-color-background);\n",
       "  text-decoration: none;\n",
       "}\n",
       "\n",
       "#sk-container-id-1 a.estimator_doc_link.fitted:hover {\n",
       "  /* fitted */\n",
       "  background-color: var(--sklearn-color-fitted-level-3);\n",
       "}\n",
       "</style><div id=\"sk-container-id-1\" class=\"sk-top-container\"><div class=\"sk-text-repr-fallback\"><pre>Pipeline(steps=[(&#x27;preprocesamiento&#x27;,\n",
       "                 ColumnTransformer(transformers=[(&#x27;num&#x27;,\n",
       "                                                  Pipeline(steps=[(&#x27;imputer&#x27;,\n",
       "                                                                   SimpleImputer()),\n",
       "                                                                  (&#x27;scaler&#x27;,\n",
       "                                                                   StandardScaler()),\n",
       "                                                                  (&#x27;select_var&#x27;,\n",
       "                                                                   VarianceThreshold(threshold=0.1)),\n",
       "                                                                  (&#x27;pca&#x27;,\n",
       "                                                                   PCA(n_components=41))]),\n",
       "                                                  Index([&#x27;riesgo_score&#x27;, &#x27;riesgo_6&#x27;, &#x27;fidelidad_tc&#x27;, &#x27;uso_exigible&#x27;,\n",
       "       &#x27;uso_tc_cant&#x27;, &#x27;uso_tc_cant_a&#x27;, &#x27;uso_tc_saldo&#x27;, &#x27;uso_tc_limite&#x27;,...\n",
       "       &#x27;price_mean_lote_venta&#x27;, &#x27;price_var_casa_venta&#x27;],\n",
       "      dtype=&#x27;object&#x27;, length=103)),\n",
       "                                                 (&#x27;cat&#x27;,\n",
       "                                                  Pipeline(steps=[(&#x27;imputer&#x27;,\n",
       "                                                                   SimpleImputer(strategy=&#x27;most_frequent&#x27;)),\n",
       "                                                                  (&#x27;dumm&#x27;,\n",
       "                                                                   OneHotEncoder(handle_unknown=&#x27;ignore&#x27;)),\n",
       "                                                                  (&#x27;selector&#x27;,\n",
       "                                                                   SelectPercentile(percentile=50,\n",
       "                                                                                    score_func=&lt;function chi2 at 0x76d084071440&gt;))]),\n",
       "                                                  Index([&#x27;riesgo_12&#x27;, &#x27;riesgo_12_bis&#x27;], dtype=&#x27;object&#x27;))])),\n",
       "                (&#x27;classificador&#x27;, LogisticRegression())])</pre><b>In a Jupyter environment, please rerun this cell to show the HTML representation or trust the notebook. <br />On GitHub, the HTML representation is unable to render, please try loading this page with nbviewer.org.</b></div><div class=\"sk-container\" hidden><div class=\"sk-item sk-dashed-wrapped\"><div class=\"sk-label-container\"><div class=\"sk-label fitted sk-toggleable\"><input class=\"sk-toggleable__control sk-hidden--visually\" id=\"sk-estimator-id-1\" type=\"checkbox\" ><label for=\"sk-estimator-id-1\" class=\"sk-toggleable__label fitted sk-toggleable__label-arrow fitted\">&nbsp;&nbsp;Pipeline<a class=\"sk-estimator-doc-link fitted\" rel=\"noreferrer\" target=\"_blank\" href=\"https://scikit-learn.org/1.5/modules/generated/sklearn.pipeline.Pipeline.html\">?<span>Documentation for Pipeline</span></a><span class=\"sk-estimator-doc-link fitted\">i<span>Fitted</span></span></label><div class=\"sk-toggleable__content fitted\"><pre>Pipeline(steps=[(&#x27;preprocesamiento&#x27;,\n",
       "                 ColumnTransformer(transformers=[(&#x27;num&#x27;,\n",
       "                                                  Pipeline(steps=[(&#x27;imputer&#x27;,\n",
       "                                                                   SimpleImputer()),\n",
       "                                                                  (&#x27;scaler&#x27;,\n",
       "                                                                   StandardScaler()),\n",
       "                                                                  (&#x27;select_var&#x27;,\n",
       "                                                                   VarianceThreshold(threshold=0.1)),\n",
       "                                                                  (&#x27;pca&#x27;,\n",
       "                                                                   PCA(n_components=41))]),\n",
       "                                                  Index([&#x27;riesgo_score&#x27;, &#x27;riesgo_6&#x27;, &#x27;fidelidad_tc&#x27;, &#x27;uso_exigible&#x27;,\n",
       "       &#x27;uso_tc_cant&#x27;, &#x27;uso_tc_cant_a&#x27;, &#x27;uso_tc_saldo&#x27;, &#x27;uso_tc_limite&#x27;,...\n",
       "       &#x27;price_mean_lote_venta&#x27;, &#x27;price_var_casa_venta&#x27;],\n",
       "      dtype=&#x27;object&#x27;, length=103)),\n",
       "                                                 (&#x27;cat&#x27;,\n",
       "                                                  Pipeline(steps=[(&#x27;imputer&#x27;,\n",
       "                                                                   SimpleImputer(strategy=&#x27;most_frequent&#x27;)),\n",
       "                                                                  (&#x27;dumm&#x27;,\n",
       "                                                                   OneHotEncoder(handle_unknown=&#x27;ignore&#x27;)),\n",
       "                                                                  (&#x27;selector&#x27;,\n",
       "                                                                   SelectPercentile(percentile=50,\n",
       "                                                                                    score_func=&lt;function chi2 at 0x76d084071440&gt;))]),\n",
       "                                                  Index([&#x27;riesgo_12&#x27;, &#x27;riesgo_12_bis&#x27;], dtype=&#x27;object&#x27;))])),\n",
       "                (&#x27;classificador&#x27;, LogisticRegression())])</pre></div> </div></div><div class=\"sk-serial\"><div class=\"sk-item sk-dashed-wrapped\"><div class=\"sk-label-container\"><div class=\"sk-label fitted sk-toggleable\"><input class=\"sk-toggleable__control sk-hidden--visually\" id=\"sk-estimator-id-2\" type=\"checkbox\" ><label for=\"sk-estimator-id-2\" class=\"sk-toggleable__label fitted sk-toggleable__label-arrow fitted\">&nbsp;preprocesamiento: ColumnTransformer<a class=\"sk-estimator-doc-link fitted\" rel=\"noreferrer\" target=\"_blank\" href=\"https://scikit-learn.org/1.5/modules/generated/sklearn.compose.ColumnTransformer.html\">?<span>Documentation for preprocesamiento: ColumnTransformer</span></a></label><div class=\"sk-toggleable__content fitted\"><pre>ColumnTransformer(transformers=[(&#x27;num&#x27;,\n",
       "                                 Pipeline(steps=[(&#x27;imputer&#x27;, SimpleImputer()),\n",
       "                                                 (&#x27;scaler&#x27;, StandardScaler()),\n",
       "                                                 (&#x27;select_var&#x27;,\n",
       "                                                  VarianceThreshold(threshold=0.1)),\n",
       "                                                 (&#x27;pca&#x27;,\n",
       "                                                  PCA(n_components=41))]),\n",
       "                                 Index([&#x27;riesgo_score&#x27;, &#x27;riesgo_6&#x27;, &#x27;fidelidad_tc&#x27;, &#x27;uso_exigible&#x27;,\n",
       "       &#x27;uso_tc_cant&#x27;, &#x27;uso_tc_cant_a&#x27;, &#x27;uso_tc_saldo&#x27;, &#x27;uso_tc_limite&#x27;,\n",
       "       &#x27;uso_tc_exigible&#x27;, &#x27;uso_tc_promedio3&#x27;...\n",
       "       &#x27;price_mean_casa_venta&#x27;, &#x27;price_mean_departamento_venta&#x27;,\n",
       "       &#x27;price_mean_lote_venta&#x27;, &#x27;price_var_casa_venta&#x27;],\n",
       "      dtype=&#x27;object&#x27;, length=103)),\n",
       "                                (&#x27;cat&#x27;,\n",
       "                                 Pipeline(steps=[(&#x27;imputer&#x27;,\n",
       "                                                  SimpleImputer(strategy=&#x27;most_frequent&#x27;)),\n",
       "                                                 (&#x27;dumm&#x27;,\n",
       "                                                  OneHotEncoder(handle_unknown=&#x27;ignore&#x27;)),\n",
       "                                                 (&#x27;selector&#x27;,\n",
       "                                                  SelectPercentile(percentile=50,\n",
       "                                                                   score_func=&lt;function chi2 at 0x76d084071440&gt;))]),\n",
       "                                 Index([&#x27;riesgo_12&#x27;, &#x27;riesgo_12_bis&#x27;], dtype=&#x27;object&#x27;))])</pre></div> </div></div><div class=\"sk-parallel\"><div class=\"sk-parallel-item\"><div class=\"sk-item\"><div class=\"sk-label-container\"><div class=\"sk-label fitted sk-toggleable\"><input class=\"sk-toggleable__control sk-hidden--visually\" id=\"sk-estimator-id-3\" type=\"checkbox\" ><label for=\"sk-estimator-id-3\" class=\"sk-toggleable__label fitted sk-toggleable__label-arrow fitted\">num</label><div class=\"sk-toggleable__content fitted\"><pre>Index([&#x27;riesgo_score&#x27;, &#x27;riesgo_6&#x27;, &#x27;fidelidad_tc&#x27;, &#x27;uso_exigible&#x27;,\n",
       "       &#x27;uso_tc_cant&#x27;, &#x27;uso_tc_cant_a&#x27;, &#x27;uso_tc_saldo&#x27;, &#x27;uso_tc_limite&#x27;,\n",
       "       &#x27;uso_tc_exigible&#x27;, &#x27;uso_tc_promedio3&#x27;,\n",
       "       ...\n",
       "       &#x27;price_count_casa_venta&#x27;, &#x27;price_count_departamento_venta&#x27;,\n",
       "       &#x27;price_count_lote_venta&#x27;, &#x27;price_sum_casa_venta&#x27;,\n",
       "       &#x27;price_sum_departamento_venta&#x27;, &#x27;price_sum_lote_venta&#x27;,\n",
       "       &#x27;price_mean_casa_venta&#x27;, &#x27;price_mean_departamento_venta&#x27;,\n",
       "       &#x27;price_mean_lote_venta&#x27;, &#x27;price_var_casa_venta&#x27;],\n",
       "      dtype=&#x27;object&#x27;, length=103)</pre></div> </div></div><div class=\"sk-serial\"><div class=\"sk-item\"><div class=\"sk-serial\"><div class=\"sk-item\"><div class=\"sk-estimator fitted sk-toggleable\"><input class=\"sk-toggleable__control sk-hidden--visually\" id=\"sk-estimator-id-4\" type=\"checkbox\" ><label for=\"sk-estimator-id-4\" class=\"sk-toggleable__label fitted sk-toggleable__label-arrow fitted\">&nbsp;SimpleImputer<a class=\"sk-estimator-doc-link fitted\" rel=\"noreferrer\" target=\"_blank\" href=\"https://scikit-learn.org/1.5/modules/generated/sklearn.impute.SimpleImputer.html\">?<span>Documentation for SimpleImputer</span></a></label><div class=\"sk-toggleable__content fitted\"><pre>SimpleImputer()</pre></div> </div></div><div class=\"sk-item\"><div class=\"sk-estimator fitted sk-toggleable\"><input class=\"sk-toggleable__control sk-hidden--visually\" id=\"sk-estimator-id-5\" type=\"checkbox\" ><label for=\"sk-estimator-id-5\" class=\"sk-toggleable__label fitted sk-toggleable__label-arrow fitted\">&nbsp;StandardScaler<a class=\"sk-estimator-doc-link fitted\" rel=\"noreferrer\" target=\"_blank\" href=\"https://scikit-learn.org/1.5/modules/generated/sklearn.preprocessing.StandardScaler.html\">?<span>Documentation for StandardScaler</span></a></label><div class=\"sk-toggleable__content fitted\"><pre>StandardScaler()</pre></div> </div></div><div class=\"sk-item\"><div class=\"sk-estimator fitted sk-toggleable\"><input class=\"sk-toggleable__control sk-hidden--visually\" id=\"sk-estimator-id-6\" type=\"checkbox\" ><label for=\"sk-estimator-id-6\" class=\"sk-toggleable__label fitted sk-toggleable__label-arrow fitted\">&nbsp;VarianceThreshold<a class=\"sk-estimator-doc-link fitted\" rel=\"noreferrer\" target=\"_blank\" href=\"https://scikit-learn.org/1.5/modules/generated/sklearn.feature_selection.VarianceThreshold.html\">?<span>Documentation for VarianceThreshold</span></a></label><div class=\"sk-toggleable__content fitted\"><pre>VarianceThreshold(threshold=0.1)</pre></div> </div></div><div class=\"sk-item\"><div class=\"sk-estimator fitted sk-toggleable\"><input class=\"sk-toggleable__control sk-hidden--visually\" id=\"sk-estimator-id-7\" type=\"checkbox\" ><label for=\"sk-estimator-id-7\" class=\"sk-toggleable__label fitted sk-toggleable__label-arrow fitted\">&nbsp;PCA<a class=\"sk-estimator-doc-link fitted\" rel=\"noreferrer\" target=\"_blank\" href=\"https://scikit-learn.org/1.5/modules/generated/sklearn.decomposition.PCA.html\">?<span>Documentation for PCA</span></a></label><div class=\"sk-toggleable__content fitted\"><pre>PCA(n_components=41)</pre></div> </div></div></div></div></div></div></div><div class=\"sk-parallel-item\"><div class=\"sk-item\"><div class=\"sk-label-container\"><div class=\"sk-label fitted sk-toggleable\"><input class=\"sk-toggleable__control sk-hidden--visually\" id=\"sk-estimator-id-8\" type=\"checkbox\" ><label for=\"sk-estimator-id-8\" class=\"sk-toggleable__label fitted sk-toggleable__label-arrow fitted\">cat</label><div class=\"sk-toggleable__content fitted\"><pre>Index([&#x27;riesgo_12&#x27;, &#x27;riesgo_12_bis&#x27;], dtype=&#x27;object&#x27;)</pre></div> </div></div><div class=\"sk-serial\"><div class=\"sk-item\"><div class=\"sk-serial\"><div class=\"sk-item\"><div class=\"sk-estimator fitted sk-toggleable\"><input class=\"sk-toggleable__control sk-hidden--visually\" id=\"sk-estimator-id-9\" type=\"checkbox\" ><label for=\"sk-estimator-id-9\" class=\"sk-toggleable__label fitted sk-toggleable__label-arrow fitted\">&nbsp;SimpleImputer<a class=\"sk-estimator-doc-link fitted\" rel=\"noreferrer\" target=\"_blank\" href=\"https://scikit-learn.org/1.5/modules/generated/sklearn.impute.SimpleImputer.html\">?<span>Documentation for SimpleImputer</span></a></label><div class=\"sk-toggleable__content fitted\"><pre>SimpleImputer(strategy=&#x27;most_frequent&#x27;)</pre></div> </div></div><div class=\"sk-item\"><div class=\"sk-estimator fitted sk-toggleable\"><input class=\"sk-toggleable__control sk-hidden--visually\" id=\"sk-estimator-id-10\" type=\"checkbox\" ><label for=\"sk-estimator-id-10\" class=\"sk-toggleable__label fitted sk-toggleable__label-arrow fitted\">&nbsp;OneHotEncoder<a class=\"sk-estimator-doc-link fitted\" rel=\"noreferrer\" target=\"_blank\" href=\"https://scikit-learn.org/1.5/modules/generated/sklearn.preprocessing.OneHotEncoder.html\">?<span>Documentation for OneHotEncoder</span></a></label><div class=\"sk-toggleable__content fitted\"><pre>OneHotEncoder(handle_unknown=&#x27;ignore&#x27;)</pre></div> </div></div><div class=\"sk-item\"><div class=\"sk-estimator fitted sk-toggleable\"><input class=\"sk-toggleable__control sk-hidden--visually\" id=\"sk-estimator-id-11\" type=\"checkbox\" ><label for=\"sk-estimator-id-11\" class=\"sk-toggleable__label fitted sk-toggleable__label-arrow fitted\">&nbsp;SelectPercentile<a class=\"sk-estimator-doc-link fitted\" rel=\"noreferrer\" target=\"_blank\" href=\"https://scikit-learn.org/1.5/modules/generated/sklearn.feature_selection.SelectPercentile.html\">?<span>Documentation for SelectPercentile</span></a></label><div class=\"sk-toggleable__content fitted\"><pre>SelectPercentile(percentile=50, score_func=&lt;function chi2 at 0x76d084071440&gt;)</pre></div> </div></div></div></div></div></div></div></div></div><div class=\"sk-item\"><div class=\"sk-estimator fitted sk-toggleable\"><input class=\"sk-toggleable__control sk-hidden--visually\" id=\"sk-estimator-id-12\" type=\"checkbox\" ><label for=\"sk-estimator-id-12\" class=\"sk-toggleable__label fitted sk-toggleable__label-arrow fitted\">&nbsp;LogisticRegression<a class=\"sk-estimator-doc-link fitted\" rel=\"noreferrer\" target=\"_blank\" href=\"https://scikit-learn.org/1.5/modules/generated/sklearn.linear_model.LogisticRegression.html\">?<span>Documentation for LogisticRegression</span></a></label><div class=\"sk-toggleable__content fitted\"><pre>LogisticRegression()</pre></div> </div></div></div></div></div></div>"
      ],
      "text/plain": [
       "Pipeline(steps=[('preprocesamiento',\n",
       "                 ColumnTransformer(transformers=[('num',\n",
       "                                                  Pipeline(steps=[('imputer',\n",
       "                                                                   SimpleImputer()),\n",
       "                                                                  ('scaler',\n",
       "                                                                   StandardScaler()),\n",
       "                                                                  ('select_var',\n",
       "                                                                   VarianceThreshold(threshold=0.1)),\n",
       "                                                                  ('pca',\n",
       "                                                                   PCA(n_components=41))]),\n",
       "                                                  Index(['riesgo_score', 'riesgo_6', 'fidelidad_tc', 'uso_exigible',\n",
       "       'uso_tc_cant', 'uso_tc_cant_a', 'uso_tc_saldo', 'uso_tc_limite',...\n",
       "       'price_mean_lote_venta', 'price_var_casa_venta'],\n",
       "      dtype='object', length=103)),\n",
       "                                                 ('cat',\n",
       "                                                  Pipeline(steps=[('imputer',\n",
       "                                                                   SimpleImputer(strategy='most_frequent')),\n",
       "                                                                  ('dumm',\n",
       "                                                                   OneHotEncoder(handle_unknown='ignore')),\n",
       "                                                                  ('selector',\n",
       "                                                                   SelectPercentile(percentile=50,\n",
       "                                                                                    score_func=<function chi2 at 0x76d084071440>))]),\n",
       "                                                  Index(['riesgo_12', 'riesgo_12_bis'], dtype='object'))])),\n",
       "                ('classificador', LogisticRegression())])"
      ]
     },
     "execution_count": 16,
     "metadata": {},
     "output_type": "execute_result"
    }
   ],
   "source": [
    "rl_pipeline"
   ]
  },
  {
   "cell_type": "code",
   "execution_count": 17,
   "id": "500f4f7a",
   "metadata": {},
   "outputs": [
    {
     "data": {
      "text/plain": [
       "{'roc_auc': 0.7030544266783134,\n",
       " 'average_precision': 0.09980679679837667,\n",
       " 'max_f1': 0.18077239112571897,\n",
       " 'accuracy_on_max_f1': 0.8279254401104591,\n",
       " 'baseline': 0.9530548843631342}"
      ]
     },
     "execution_count": 17,
     "metadata": {},
     "output_type": "execute_result"
    }
   ],
   "source": [
    "rl_val_preds = rl_pipeline.predict_proba(X_val)[:, 1]\n",
    "rl_metrics = get_imbalaced_metrics(y_val, rl_val_preds)\n",
    "rl_metrics"
   ]
  },
  {
   "cell_type": "code",
   "execution_count": 18,
   "id": "e7f0db6e",
   "metadata": {},
   "outputs": [],
   "source": [
    " #(y_val.to_frame(name='y_true').assign(y_pred_proba=rl_val_preds)).to_excel('preds.xlsx')"
   ]
  },
  {
   "cell_type": "markdown",
   "id": "acd08629",
   "metadata": {},
   "source": [
    "## Naive Bayes"
   ]
  },
  {
   "cell_type": "code",
   "execution_count": 19,
   "id": "44e0fd3b",
   "metadata": {},
   "outputs": [
    {
     "name": "stdout",
     "output_type": "stream",
     "text": [
      "Tiempo Entrenamiento Naive Bayes: 0:00:00.146745\n"
     ]
    }
   ],
   "source": [
    "nb_pipeline = Pipeline([\n",
    "    ('preprocesamiento', preprocessor),\n",
    "    ('classificador', GaussianNB())\n",
    "])\n",
    "\n",
    "start = time()\n",
    "nb_pipeline.fit(X_train, y_train)\n",
    "end = time()\n",
    "\n",
    "print(\n",
    "    'Tiempo Entrenamiento Naive Bayes:',\n",
    "    str(timedelta(seconds=end-start))\n",
    ")"
   ]
  },
  {
   "cell_type": "code",
   "execution_count": 20,
   "id": "69cd6b9f",
   "metadata": {},
   "outputs": [
    {
     "data": {
      "text/plain": [
       "{'roc_auc': 0.65407354539063,\n",
       " 'average_precision': 0.07704417736192179,\n",
       " 'max_f1': 0.14782982380747745,\n",
       " 'accuracy_on_max_f1': 0.6577493959268208,\n",
       " 'baseline': 0.9530548843631342}"
      ]
     },
     "execution_count": 20,
     "metadata": {},
     "output_type": "execute_result"
    }
   ],
   "source": [
    "nb_val_preds = nb_pipeline.predict_proba(X_val)[:, 1]\n",
    "nb_metrics = get_imbalaced_metrics(y_val, nb_val_preds)\n",
    "nb_metrics"
   ]
  },
  {
   "cell_type": "markdown",
   "id": "83b46ea5",
   "metadata": {},
   "source": [
    "## XGBoost\n",
    "\n",
    "\n",
    "Tiempo de Entrenamiento en train: 0:00:25.777025\n",
    "\n",
    "### Definición del Preprocesamiento"
   ]
  },
  {
   "cell_type": "code",
   "execution_count": 21,
   "id": "4387b1be",
   "metadata": {},
   "outputs": [],
   "source": [
    "xgb_preprocessing = ColumnTransformer([\n",
    "    ('procesador_numericas', 'passthrough', numericas),\n",
    "    ('proccesador_ordinal', OrdinalEncoder(**config_ordinal), ordinales),\n",
    "    ('procesador_categoricas', OneHotEncoder(), categoricas)\n",
    "])"
   ]
  },
  {
   "cell_type": "markdown",
   "id": "9dd99514",
   "metadata": {},
   "source": [
    "### Definicion del pipeline y entrenamiento"
   ]
  },
  {
   "cell_type": "code",
   "execution_count": 22,
   "id": "72de9f1b",
   "metadata": {},
   "outputs": [
    {
     "name": "stderr",
     "output_type": "stream",
     "text": [
      "/workspaces/predict_bad_rate/.conda/lib/python3.11/site-packages/xgboost/core.py:158: UserWarning: [17:07:42] WARNING: /croot/xgboost-split_1724073744422/work/src/learner.cc:740: \n",
      "Parameters: { \"use_label_encoder\" } are not used.\n",
      "\n",
      "  warnings.warn(smsg, UserWarning)\n"
     ]
    },
    {
     "name": "stdout",
     "output_type": "stream",
     "text": [
      "Tiempo Entrenamiento XGBoost: 0:00:02.293157\n"
     ]
    }
   ],
   "source": [
    "config_xgb = dict(\n",
    "    use_label_encoder=False, eval_metric='logloss'\n",
    ")\n",
    "\n",
    "xgb_pipeline = Pipeline([\n",
    "    ('preprocesamiento', xgb_preprocessing),\n",
    "    ('classificador', XGBClassifier(**config_xgb))\n",
    "])\n",
    "\n",
    "start = time()\n",
    "xgb_pipeline.fit(X_train, y_train)\n",
    "end = time()\n",
    "\n",
    "print(\n",
    "    'Tiempo Entrenamiento XGBoost:',\n",
    "    str(timedelta(seconds=end-start))\n",
    ")"
   ]
  },
  {
   "cell_type": "markdown",
   "id": "3df0e9a3",
   "metadata": {},
   "source": [
    "### Revisión de Métricas"
   ]
  },
  {
   "cell_type": "code",
   "execution_count": 23,
   "id": "90ec37d0",
   "metadata": {},
   "outputs": [
    {
     "data": {
      "text/plain": [
       "{'roc_auc': 0.7097871881458124,\n",
       " 'average_precision': 0.10107959528151117,\n",
       " 'max_f1': 0.18815331010452963,\n",
       " 'accuracy_on_max_f1': 0.7989299275112185,\n",
       " 'baseline': 0.9530548843631342}"
      ]
     },
     "execution_count": 23,
     "metadata": {},
     "output_type": "execute_result"
    }
   ],
   "source": [
    "xgb_val_preds = xgb_pipeline.predict_proba(X_val)[:, 1]\n",
    "xgb_metrics = get_imbalaced_metrics(y_val, xgb_val_preds)\n",
    "xgb_metrics"
   ]
  },
  {
   "cell_type": "markdown",
   "id": "573983a2",
   "metadata": {},
   "source": [
    "## RandomForest\n",
    "\n",
    "Uso el mismo preprocesamiento que el XGBoost. Sin embargo usa un SimplerImputer de la media ya que las variables categoricas tras el OneHotEncoder tienen un columna para los valores nulos.\n",
    "\n",
    "Tiempo de Entrenamiento: 0:00:22.465637"
   ]
  },
  {
   "cell_type": "code",
   "execution_count": 24,
   "id": "0c71e45b",
   "metadata": {},
   "outputs": [
    {
     "name": "stdout",
     "output_type": "stream",
     "text": [
      "Tiempo Entrenamiento RandomForest: 0:00:10.022388\n"
     ]
    }
   ],
   "source": [
    "rf_pipeline = Pipeline([\n",
    "    ('preprocesamiento', xgb_preprocessing),\n",
    "    ('imptuer', SimpleImputer()),\n",
    "    ('classificador', RandomForestClassifier())\n",
    "])\n",
    "\n",
    "start = time()\n",
    "rf_pipeline.fit(X_train, y_train)\n",
    "end = time()\n",
    "\n",
    "print(\n",
    "    'Tiempo Entrenamiento RandomForest:',\n",
    "    str(timedelta(seconds=end-start))\n",
    ")"
   ]
  },
  {
   "cell_type": "code",
   "execution_count": 25,
   "id": "9a9f026d",
   "metadata": {},
   "outputs": [
    {
     "data": {
      "text/plain": [
       "{'roc_auc': 0.6601052341436393,\n",
       " 'average_precision': 0.0935182241399144,\n",
       " 'max_f1': 0.167420814479638,\n",
       " 'accuracy_on_max_f1': 0.8729720400414221,\n",
       " 'baseline': 0.9530548843631342}"
      ]
     },
     "execution_count": 25,
     "metadata": {},
     "output_type": "execute_result"
    }
   ],
   "source": [
    "rf_val_preds = rf_pipeline.predict_proba(X_val)[:, 1]\n",
    "rf_metrics = get_imbalaced_metrics(y_val, rf_val_preds)\n",
    "rf_metrics"
   ]
  },
  {
   "cell_type": "markdown",
   "id": "d0ffa242",
   "metadata": {},
   "source": [
    "## Resumen de Resultados"
   ]
  },
  {
   "cell_type": "code",
   "execution_count": 26,
   "id": "cfcc6a73",
   "metadata": {},
   "outputs": [],
   "source": [
    "metrics = dict(\n",
    "    xgb=xgb_metrics,\n",
    "    rf=rf_metrics,\n",
    "    rl=rl_metrics,\n",
    "    nb=nb_metrics\n",
    ")\n",
    "\n",
    "df_metrics = pd.DataFrame.from_dict(metrics, orient='index')"
   ]
  },
  {
   "cell_type": "code",
   "execution_count": 27,
   "id": "f5e4fd9c",
   "metadata": {},
   "outputs": [
    {
     "data": {
      "image/png": "[encoded data removed]",
      "text/plain": [
       "<Figure size 1600x900 with 8 Axes>"
      ]
     },
     "metadata": {},
     "output_type": "display_data"
    }
   ],
   "source": [
    "plt.rc('font', size=14)\n",
    "plt.rc('xtick', labelsize=14)\n",
    "\n",
    "fig, axs = plt.subplots(1, 4, figsize=(16, 9), sharey=True)\n",
    "\n",
    "for i, ax in enumerate(axs):\n",
    "    sns.heatmap(\n",
    "        df_metrics.iloc[:, [i]],\n",
    "        ax=ax,\n",
    "        vmin=df_metrics.iloc[:, [i]].min()*0.8,\n",
    "        vmax=df_metrics.iloc[:, [i]].max(),\n",
    "        annot=True,\n",
    "        cmap='viridis'\n",
    "    )\n",
    "    \n",
    "fig.tight_layout()"
   ]
  },
  {
   "cell_type": "code",
   "execution_count": null,
   "id": "fb4346b0",
   "metadata": {},
   "outputs": [],
   "source": []
  }
 ],
 "metadata": {
  "kernelspec": {
   "display_name": "Python 3",
   "language": "python",
   "name": "python3"
  },
  "language_info": {
   "codemirror_mode": {
    "name": "ipython",
    "version": 3
   },
   "file_extension": ".py",
   "mimetype": "text/x-python",
   "name": "python",
   "nbconvert_exporter": "python",
   "pygments_lexer": "ipython3",
   "version": "3.11.10"
  },
  "toc": {
   "base_numbering": 1,
   "nav_menu": {},
   "number_sections": true,
   "sideBar": true,
   "skip_h1_title": false,
   "title_cell": "Table of Contents",
   "title_sidebar": "Contents",
   "toc_cell": false,
   "toc_position": {},
   "toc_section_display": true,
   "toc_window_display": false
  },
  "varInspector": {
   "cols": {
    "lenName": 16,
    "lenType": 16,
    "lenVar": 40
   },
   "kernels_config": {
    "python": {
     "delete_cmd_postfix": "",
     "delete_cmd_prefix": "del ",
     "library": "var_list.py",
     "varRefreshCmd": "print(var_dic_list())"
    },
    "r": {
     "delete_cmd_postfix": ") ",
     "delete_cmd_prefix": "rm(",
     "library": "var_list.r",
     "varRefreshCmd": "cat(var_dic_list()) "
    }
   },
   "types_to_exclude": [
    "module",
    "function",
    "builtin_function_or_method",
    "instance",
    "_Feature"
   ],
   "window_display": false
  }
 },
 "nbformat": 4,
 "nbformat_minor": 5
}
